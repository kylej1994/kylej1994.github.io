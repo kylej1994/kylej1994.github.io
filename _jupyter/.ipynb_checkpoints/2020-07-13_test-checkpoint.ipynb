{
 "cells": [
  {
   "cell_type": "markdown",
   "metadata": {},
   "source": [
    "### Hello!\n",
    "\n",
    "This is a test post. Below is some places I've spent some significant time in my life :) "
   ]
  },
  {
   "cell_type": "code",
   "execution_count": 1,
   "metadata": {},
   "outputs": [
    {
     "name": "stderr",
     "output_type": "stream",
     "text": [
      "/Users/kyjablon/.virtualenvs/base/lib/python3.7/site-packages/pandas/compat/__init__.py:120: UserWarning: Could not import the lzma module. Your installed Python is incomplete. Attempting to use lzma compression will result in a RuntimeError.\n",
      "  warnings.warn(msg)\n"
     ]
    }
   ],
   "source": [
    "import folium\n",
    "import pandas as pd\n",
    "from folium.plugins import MarkerCluster\n",
    "from IPython.core.display import display, HTML"
   ]
  },
  {
   "cell_type": "code",
   "execution_count": 2,
   "metadata": {},
   "outputs": [
    {
     "data": {
      "text/html": [
       "<div style=\"width:100%;\"><div style=\"position:relative;width:100%;height:0;padding-bottom:60%;\"><span style=\"color:#565656\">Make this Notebook Trusted to load map: File -> Trust Notebook</span><iframe src=\"about:blank\" style=\"position:absolute;width:100%;height:100%;left:0;top:0;border:none !important;\" data-html=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 onload=\"this.contentDocument.open();this.contentDocument.write(atob(this.getAttribute('data-html')));this.contentDocument.close();\" allowfullscreen webkitallowfullscreen mozallowfullscreen></iframe></div></div>"
      ],
      "text/plain": [
       "<folium.folium.Map at 0x11afdf748>"
      ]
     },
     "execution_count": 2,
     "metadata": {},
     "output_type": "execute_result"
    }
   ],
   "source": [
    "#Define the coordinates we want our markers to be at\n",
    "#Define coordinates of where we want to center our map\n",
    "san_diego_coords = [32.715736, -117.161087]\n",
    "hyde_park = [41.7948, -87.5917]\n",
    "NYC_coords = [40.7282, -73.7949]\n",
    "\n",
    "#Create the map\n",
    "my_map = folium.Map(location = NYC_coords, zoom_start = 3)\n",
    "\n",
    "#Add markers to the map\n",
    "folium.Marker(san_diego_coords, popup = 'San Diego, CA').add_to(my_map)\n",
    "folium.Marker(hyde_park, popup = 'Chicago, IL').add_to(my_map)\n",
    "folium.Marker(NYC_coords, popup = 'Queens, New York').add_to(my_map)\n",
    "\n",
    "my_map"
   ]
  },
  {
   "cell_type": "code",
   "execution_count": 3,
   "metadata": {},
   "outputs": [
    {
     "data": {
      "text/html": [
       "<h1>Hello, world!</h1>"
      ],
      "text/plain": [
       "<IPython.core.display.HTML object>"
      ]
     },
     "metadata": {},
     "output_type": "display_data"
    }
   ],
   "source": [
    "display(HTML('<h1>Hello, world!</h1>'))"
   ]
  },
  {
   "cell_type": "code",
   "execution_count": null,
   "metadata": {},
   "outputs": [],
   "source": []
  }
 ],
 "metadata": {
  "kernelspec": {
   "display_name": "Python 3",
   "language": "python",
   "name": "python3"
  },
  "language_info": {
   "codemirror_mode": {
    "name": "ipython",
    "version": 3
   },
   "file_extension": ".py",
   "mimetype": "text/x-python",
   "name": "python",
   "nbconvert_exporter": "python",
   "pygments_lexer": "ipython3",
   "version": "3.7.3"
  }
 },
 "nbformat": 4,
 "nbformat_minor": 4
}
